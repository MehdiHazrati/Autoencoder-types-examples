{
 "cells": [
  {
   "cell_type": "code",
   "execution_count": 2,
   "metadata": {
    "slideshow": {
     "slide_type": "slide"
    }
   },
   "outputs": [],
   "source": [
    "#Helper Functions\n",
    "# find factors automatically\n",
    "def factorsFind(num, prefer=None):\n",
    "    if prefer is not None:\n",
    "        bestDivider = prefer\n",
    "        return bestDivider, int(num/bestDivider)\n",
    "    bestDivider = 1\n",
    "    for i in range(2,int(num/2)):\n",
    "        if num%i == 0:\n",
    "            bestDivider = i\n",
    "    return bestDivider, int(num/bestDivider)\n",
    "\n",
    "def plotSpecialTool(data,labels,samples2Visualize=12,factors=[2,6], figsize=(12,3), grayFlag=False, thr=0.0, reshaper=(28,28), indexes=[]):\n",
    "    # samples2Visualize = 12 # sample 12 random number\n",
    "    # factors = [2,6] # indicate two factors for number of samples\n",
    "    assert np.prod(np.array(factors))==samples2Visualize, \"%rx%r is not equal to %r\" % (factors[0],factors[1],samples2Visualize)\n",
    "    figure = plt.figure(figsize=figsize)\n",
    "    nLimit = data.shape[0]\n",
    "    for i in range(1,samples2Visualize+1):\n",
    "        img = figure.add_subplot(factors[0],factors[1],i)\n",
    "        # randomly sample an image from train set\n",
    "        \n",
    "        if len(indexes) != 0:\n",
    "            imgID = indexes[i-1]\n",
    "        else: \n",
    "            imgID = np.random.randint(nLimit-1)\n",
    "            \n",
    "        image = data[imgID]\n",
    "        image = image * 255.\n",
    "        \n",
    "        if len(reshaper) != 0:\n",
    "            image = image.reshape(reshaper[0], reshaper[1])\n",
    "            \n",
    "        if grayFlag:\n",
    "            plt.imshow(image.reshape(image.shape[0],image.shape[1]), cmap=plt.get_cmap('gray'))\n",
    "        else:\n",
    "            plt.imshow(image+thr)\n",
    "            \n",
    "        if len(labels) != 0:\n",
    "            img.set_title(labels[imgID],fontsize=7)\n",
    "            \n",
    "        plt.axis('off')"
   ]
  },
  {
   "cell_type": "markdown",
   "metadata": {
    "slideshow": {
     "slide_type": "slide"
    }
   },
   "source": [
    "## Undercomplete AutoEncoder:"
   ]
  },
  {
   "cell_type": "markdown",
   "metadata": {
    "collapsed": true,
    "slideshow": {
     "slide_type": "subslide"
    }
   },
   "source": [
    "First AutoEncoder Example:\n",
    "<img src=\"elements/images/01AE/autoencoder_1.png\" alt=\"Drawing\" align=\"middle\" style=\"width: 900px;\"/>"
   ]
  },
  {
   "cell_type": "code",
   "execution_count": 3,
   "metadata": {
    "slideshow": {
     "slide_type": "subslide"
    }
   },
   "outputs": [
    {
     "name": "stdout",
     "output_type": "stream",
     "text": [
      "Downloading data from https://storage.googleapis.com/tensorflow/tf-keras-datasets/mnist.npz\n",
      "11493376/11490434 [==============================] - 3s 0us/step\n",
      "11501568/11490434 [==============================] - 3s 0us/step\n",
      "(60000, 784)\n",
      "(10000, 784)\n"
     ]
    }
   ],
   "source": [
    "# ~/.keras/dataset\n",
    "from keras.datasets import mnist\n",
    "import numpy as np\n",
    "(x_train, _), (x_test, _) = mnist.load_data()\n",
    "x_train = x_train.astype('float32') / 255.\n",
    "x_test = x_test.astype('float32') / 255.\n",
    "x_train = x_train.reshape((len(x_train), np.prod(x_train.shape[1:])))\n",
    "x_test = x_test.reshape((len(x_test), np.prod(x_test.shape[1:])))\n",
    "print(x_train.shape)\n",
    "print(x_test.shape)"
   ]
  },
  {
   "cell_type": "code",
   "execution_count": 4,
   "metadata": {
    "slideshow": {
     "slide_type": "subslide"
    }
   },
   "outputs": [],
   "source": [
    "# Step 1: Import Libraries\n",
    "from keras.layers import Input, Dense\n",
    "from keras.models import Model\n",
    "import matplotlib.pyplot as plt"
   ]
  },
  {
   "cell_type": "code",
   "execution_count": 5,
   "metadata": {
    "slideshow": {
     "slide_type": "subslide"
    }
   },
   "outputs": [],
   "source": [
    "encodingDim = 32  # 32 floats -> compression of factor 24.5, assuming the input is 784 floats"
   ]
  },
  {
   "cell_type": "markdown",
   "metadata": {
    "slideshow": {
     "slide_type": "fragment"
    }
   },
   "source": [
    "<img src=\"elements/images/01AE/autoencoder_1.png\" alt=\"Drawing\" align=\"middle\" style=\"width: 1000px;\"/>"
   ]
  },
  {
   "cell_type": "code",
   "execution_count": 6,
   "metadata": {
    "slideshow": {
     "slide_type": "subslide"
    }
   },
   "outputs": [],
   "source": [
    "# this is our input placeholder\n",
    "inputImg = Input(shape=(784,))"
   ]
  },
  {
   "cell_type": "markdown",
   "metadata": {
    "slideshow": {
     "slide_type": "fragment"
    }
   },
   "source": [
    "<img src=\"elements/images/01AE/autoencoder_1.png\" alt=\"Drawing\" align=\"middle\" style=\"width: 1000px;\"/>"
   ]
  },
  {
   "cell_type": "code",
   "execution_count": 7,
   "metadata": {
    "slideshow": {
     "slide_type": "subslide"
    }
   },
   "outputs": [],
   "source": [
    "# \"encoded\" is the encoded representation of the input\n",
    "encoded = Dense(encodingDim, activation='relu')(inputImg)"
   ]
  },
  {
   "cell_type": "markdown",
   "metadata": {
    "slideshow": {
     "slide_type": "fragment"
    }
   },
   "source": [
    "<img src=\"elements/images/01AE/autoencoder_1.png\" alt=\"Drawing\" align=\"middle\" style=\"width: 1000px;\"/>"
   ]
  },
  {
   "cell_type": "code",
   "execution_count": 8,
   "metadata": {
    "slideshow": {
     "slide_type": "subslide"
    }
   },
   "outputs": [],
   "source": [
    "# \"decoded\" is the lossy reconstruction of the input\n",
    "decoded = Dense(784, activation='sigmoid')(encoded)"
   ]
  },
  {
   "cell_type": "markdown",
   "metadata": {
    "slideshow": {
     "slide_type": "fragment"
    }
   },
   "source": [
    "<img src=\"elements/images/01AE/autoencoder_1.png\" alt=\"Drawing\" align=\"middle\" style=\"width: 1000px;\"/>"
   ]
  },
  {
   "cell_type": "code",
   "execution_count": 9,
   "metadata": {
    "slideshow": {
     "slide_type": "subslide"
    }
   },
   "outputs": [],
   "source": [
    "# this model maps an input to its reconstruction\n",
    "autoencoder = Model(inputImg, decoded)"
   ]
  },
  {
   "cell_type": "markdown",
   "metadata": {
    "slideshow": {
     "slide_type": "fragment"
    }
   },
   "source": [
    "<img src=\"elements/images/01AE/autoencoder_1.png\" alt=\"Drawing\" align=\"middle\" style=\"width: 1000px;\"/>"
   ]
  },
  {
   "cell_type": "code",
   "execution_count": 10,
   "metadata": {
    "slideshow": {
     "slide_type": "subslide"
    }
   },
   "outputs": [],
   "source": [
    "# this model maps an input to its encoded representation\n",
    "encoder = Model(inputImg, encoded)"
   ]
  },
  {
   "cell_type": "markdown",
   "metadata": {
    "slideshow": {
     "slide_type": "fragment"
    }
   },
   "source": [
    "<img src=\"elements/images/01AE/autoencoder_1.png\" alt=\"Drawing\" align=\"middle\" style=\"width: 1000px;\"/>"
   ]
  },
  {
   "cell_type": "code",
   "execution_count": 11,
   "metadata": {
    "slideshow": {
     "slide_type": "subslide"
    }
   },
   "outputs": [],
   "source": [
    "# create a placeholder for an encoded (32-dimensional) input\n",
    "encodedInput = Input(shape=(encodingDim,))"
   ]
  },
  {
   "cell_type": "code",
   "execution_count": 12,
   "metadata": {
    "slideshow": {
     "slide_type": "fragment"
    }
   },
   "outputs": [],
   "source": [
    "# retrieve the last layer of the autoencoder model\n",
    "decoderLayer = autoencoder.layers[-1]"
   ]
  },
  {
   "cell_type": "code",
   "execution_count": 13,
   "metadata": {
    "slideshow": {
     "slide_type": "fragment"
    }
   },
   "outputs": [],
   "source": [
    "# create the decoder model\n",
    "decoder = Model(encodedInput, decoderLayer(encodedInput))"
   ]
  },
  {
   "cell_type": "markdown",
   "metadata": {
    "slideshow": {
     "slide_type": "fragment"
    }
   },
   "source": [
    "<img src=\"elements/images/01AE/autoencoder_1.png\" alt=\"Drawing\" align=\"middle\" style=\"width: 850px;\"/>"
   ]
  },
  {
   "cell_type": "code",
   "execution_count": 14,
   "metadata": {
    "slideshow": {
     "slide_type": "subslide"
    }
   },
   "outputs": [],
   "source": [
    "autoencoder.compile(optimizer='adadelta', loss='binary_crossentropy')"
   ]
  },
  {
   "cell_type": "code",
   "execution_count": 15,
   "metadata": {
    "slideshow": {
     "slide_type": "subslide"
    }
   },
   "outputs": [
    {
     "name": "stdout",
     "output_type": "stream",
     "text": [
      "Epoch 1/50\n",
      "235/235 [==============================] - 2s 5ms/step - loss: 0.6945 - val_loss: 0.6945\n",
      "Epoch 2/50\n",
      "235/235 [==============================] - 1s 4ms/step - loss: 0.6944 - val_loss: 0.6943\n",
      "Epoch 3/50\n",
      "235/235 [==============================] - 1s 4ms/step - loss: 0.6942 - val_loss: 0.6941\n",
      "Epoch 4/50\n",
      "235/235 [==============================] - 1s 3ms/step - loss: 0.6940 - val_loss: 0.6940\n",
      "Epoch 5/50\n",
      "235/235 [==============================] - 1s 3ms/step - loss: 0.6939 - val_loss: 0.6938\n",
      "Epoch 6/50\n",
      "235/235 [==============================] - 1s 4ms/step - loss: 0.6937 - val_loss: 0.6936\n",
      "Epoch 7/50\n",
      "235/235 [==============================] - 1s 4ms/step - loss: 0.6936 - val_loss: 0.6935\n",
      "Epoch 8/50\n",
      "235/235 [==============================] - 1s 4ms/step - loss: 0.6934 - val_loss: 0.6933\n",
      "Epoch 9/50\n",
      "235/235 [==============================] - 1s 6ms/step - loss: 0.6933 - val_loss: 0.6932\n",
      "Epoch 10/50\n",
      "235/235 [==============================] - 1s 6ms/step - loss: 0.6931 - val_loss: 0.6930\n",
      "Epoch 11/50\n",
      "235/235 [==============================] - 1s 6ms/step - loss: 0.6930 - val_loss: 0.6929\n",
      "Epoch 12/50\n",
      "235/235 [==============================] - 1s 6ms/step - loss: 0.6928 - val_loss: 0.6927\n",
      "Epoch 13/50\n",
      "235/235 [==============================] - 1s 5ms/step - loss: 0.6927 - val_loss: 0.6926\n",
      "Epoch 14/50\n",
      "235/235 [==============================] - 1s 6ms/step - loss: 0.6925 - val_loss: 0.6924\n",
      "Epoch 15/50\n",
      "235/235 [==============================] - 1s 6ms/step - loss: 0.6924 - val_loss: 0.6923\n",
      "Epoch 16/50\n",
      "235/235 [==============================] - 1s 6ms/step - loss: 0.6922 - val_loss: 0.6922\n",
      "Epoch 17/50\n",
      "235/235 [==============================] - 1s 6ms/step - loss: 0.6921 - val_loss: 0.6920\n",
      "Epoch 18/50\n",
      "235/235 [==============================] - 1s 6ms/step - loss: 0.6920 - val_loss: 0.6919\n",
      "Epoch 19/50\n",
      "235/235 [==============================] - 1s 5ms/step - loss: 0.6918 - val_loss: 0.6917\n",
      "Epoch 20/50\n",
      "235/235 [==============================] - 1s 5ms/step - loss: 0.6917 - val_loss: 0.6916\n",
      "Epoch 21/50\n",
      "235/235 [==============================] - 1s 5ms/step - loss: 0.6915 - val_loss: 0.6914\n",
      "Epoch 22/50\n",
      "235/235 [==============================] - 1s 5ms/step - loss: 0.6914 - val_loss: 0.6913\n",
      "Epoch 23/50\n",
      "235/235 [==============================] - 1s 4ms/step - loss: 0.6913 - val_loss: 0.6911\n",
      "Epoch 24/50\n",
      "235/235 [==============================] - 1s 5ms/step - loss: 0.6911 - val_loss: 0.6910\n",
      "Epoch 25/50\n",
      "235/235 [==============================] - 1s 5ms/step - loss: 0.6910 - val_loss: 0.6909\n",
      "Epoch 26/50\n",
      "235/235 [==============================] - 1s 5ms/step - loss: 0.6908 - val_loss: 0.6907\n",
      "Epoch 27/50\n",
      "235/235 [==============================] - 1s 4ms/step - loss: 0.6907 - val_loss: 0.6906\n",
      "Epoch 28/50\n",
      "235/235 [==============================] - 1s 5ms/step - loss: 0.6905 - val_loss: 0.6904\n",
      "Epoch 29/50\n",
      "235/235 [==============================] - 1s 6ms/step - loss: 0.6904 - val_loss: 0.6903\n",
      "Epoch 30/50\n",
      "235/235 [==============================] - 1s 6ms/step - loss: 0.6902 - val_loss: 0.6901\n",
      "Epoch 31/50\n",
      "235/235 [==============================] - 1s 6ms/step - loss: 0.6901 - val_loss: 0.6900\n",
      "Epoch 32/50\n",
      "235/235 [==============================] - 1s 6ms/step - loss: 0.6899 - val_loss: 0.6898\n",
      "Epoch 33/50\n",
      "235/235 [==============================] - 1s 5ms/step - loss: 0.6898 - val_loss: 0.6897\n",
      "Epoch 34/50\n",
      "235/235 [==============================] - 1s 6ms/step - loss: 0.6896 - val_loss: 0.6895\n",
      "Epoch 35/50\n",
      "235/235 [==============================] - 1s 5ms/step - loss: 0.6895 - val_loss: 0.6894\n",
      "Epoch 36/50\n",
      "235/235 [==============================] - 1s 5ms/step - loss: 0.6893 - val_loss: 0.6892\n",
      "Epoch 37/50\n",
      "235/235 [==============================] - 1s 5ms/step - loss: 0.6892 - val_loss: 0.6890\n",
      "Epoch 38/50\n",
      "235/235 [==============================] - 1s 5ms/step - loss: 0.6890 - val_loss: 0.6889\n",
      "Epoch 39/50\n",
      "235/235 [==============================] - 1s 5ms/step - loss: 0.6889 - val_loss: 0.6887\n",
      "Epoch 40/50\n",
      "235/235 [==============================] - 1s 6ms/step - loss: 0.6887 - val_loss: 0.6886\n",
      "Epoch 41/50\n",
      "235/235 [==============================] - 1s 6ms/step - loss: 0.6885 - val_loss: 0.6884\n",
      "Epoch 42/50\n",
      "235/235 [==============================] - 1s 6ms/step - loss: 0.6884 - val_loss: 0.6882\n",
      "Epoch 43/50\n",
      "235/235 [==============================] - 1s 5ms/step - loss: 0.6882 - val_loss: 0.6880\n",
      "Epoch 44/50\n",
      "235/235 [==============================] - 1s 6ms/step - loss: 0.6880 - val_loss: 0.6879\n",
      "Epoch 45/50\n",
      "235/235 [==============================] - 1s 6ms/step - loss: 0.6878 - val_loss: 0.6877\n",
      "Epoch 46/50\n",
      "235/235 [==============================] - 1s 6ms/step - loss: 0.6877 - val_loss: 0.6875\n",
      "Epoch 47/50\n",
      "235/235 [==============================] - 1s 6ms/step - loss: 0.6875 - val_loss: 0.6873\n",
      "Epoch 48/50\n",
      "235/235 [==============================] - 1s 6ms/step - loss: 0.6873 - val_loss: 0.6871\n",
      "Epoch 49/50\n",
      "235/235 [==============================] - 1s 6ms/step - loss: 0.6871 - val_loss: 0.6869\n",
      "Epoch 50/50\n",
      "235/235 [==============================] - 1s 6ms/step - loss: 0.6869 - val_loss: 0.6867\n"
     ]
    },
    {
     "data": {
      "text/plain": [
       "<keras.callbacks.History at 0x1aed8d58a00>"
      ]
     },
     "execution_count": 15,
     "metadata": {},
     "output_type": "execute_result"
    }
   ],
   "source": [
    "autoencoder.fit(x_train, x_train,\n",
    "                epochs=50,\n",
    "                batch_size=256,\n",
    "                shuffle=True,\n",
    "                validation_data=(x_test, x_test))"
   ]
  },
  {
   "cell_type": "code",
   "execution_count": 16,
   "metadata": {
    "slideshow": {
     "slide_type": "subslide"
    }
   },
   "outputs": [],
   "source": [
    "# ignore training for now, just load the model\n",
    "from keras.models import load_model\n",
    "autoencoder = load_model('simpleAE.h5')"
   ]
  },
  {
   "cell_type": "code",
   "execution_count": 17,
   "metadata": {
    "slideshow": {
     "slide_type": "subslide"
    }
   },
   "outputs": [],
   "source": [
    "# save models and weights\n",
    "autoencoder.save('simpleAE.h5')"
   ]
  },
  {
   "cell_type": "code",
   "execution_count": 18,
   "metadata": {
    "slideshow": {
     "slide_type": "subslide"
    }
   },
   "outputs": [],
   "source": [
    "# encode and decode some digits\n",
    "# note that we take them from the *test* set\n",
    "encodedImgs = encoder.predict(x_test)\n",
    "decodedImgs = decoder.predict(encodedImgs)"
   ]
  },
  {
   "cell_type": "code",
   "execution_count": 19,
   "metadata": {
    "slideshow": {
     "slide_type": "subslide"
    }
   },
   "outputs": [
    {
     "data": {
      "image/png": "[encoded data removed]",
      "text/plain": [
       "<Figure size 864x216 with 10 Axes>"
      ]
     },
     "metadata": {
      "needs_background": "light"
     },
     "output_type": "display_data"
    },
    {
     "data": {
      "image/png": "[encoded data removed]",
      "text/plain": [
       "<Figure size 864x216 with 10 Axes>"
      ]
     },
     "metadata": {
      "needs_background": "light"
     },
     "output_type": "display_data"
    }
   ],
   "source": [
    "allIdx = range(10)\n",
    "plotSpecialTool(x_test,[],samples2Visualize=10,factors=[1,10], figsize=(12,3), grayFlag=False, thr=0.0, reshaper=(28,28), indexes=allIdx)\n",
    "plotSpecialTool(decodedImgs,[],samples2Visualize=10,factors=[1,10], figsize=(12,3), grayFlag=False, thr=0.0, reshaper=(28,28), indexes=allIdx)\n",
    "plt.show()"
   ]
  },
  {
   "cell_type": "code",
   "execution_count": 20,
   "metadata": {
    "slideshow": {
     "slide_type": "skip"
    }
   },
   "outputs": [],
   "source": [
    "del autoencoder"
   ]
  },
  {
   "cell_type": "markdown",
   "metadata": {
    "slideshow": {
     "slide_type": "slide"
    }
   },
   "source": [
    "## Sparse AutoEncoder:"
   ]
  },
  {
   "cell_type": "code",
   "execution_count": 21,
   "metadata": {
    "slideshow": {
     "slide_type": "subslide"
    }
   },
   "outputs": [],
   "source": [
    "# add a Dense layer with a L1 activity regularizer\n",
    "from keras import regularizers\n",
    "encoded = Dense(encodingDim, activation='relu',\n",
    "                activity_regularizer=regularizers.l1(10e-8))(inputImg)\n",
    "decoded = Dense(784, activation='sigmoid')(encoded)\n",
    "\n",
    "autoencoder = Model(inputImg, decoded)"
   ]
  },
  {
   "cell_type": "code",
   "execution_count": 22,
   "metadata": {
    "slideshow": {
     "slide_type": "subslide"
    }
   },
   "outputs": [],
   "source": [
    "autoencoder = Model(inputImg, decoded)"
   ]
  },
  {
   "cell_type": "code",
   "execution_count": 23,
   "metadata": {
    "slideshow": {
     "slide_type": "fragment"
    }
   },
   "outputs": [],
   "source": [
    "autoencoder.compile(optimizer='adadelta', loss='binary_crossentropy')"
   ]
  },
  {
   "cell_type": "code",
   "execution_count": 24,
   "metadata": {
    "slideshow": {
     "slide_type": "subslide"
    }
   },
   "outputs": [
    {
     "name": "stdout",
     "output_type": "stream",
     "text": [
      "Epoch 1/50\n",
      "235/235 [==============================] - 2s 5ms/step - loss: 0.6949 - val_loss: 0.6949\n",
      "Epoch 2/50\n",
      "235/235 [==============================] - 1s 6ms/step - loss: 0.6947 - val_loss: 0.6947\n",
      "Epoch 3/50\n",
      "235/235 [==============================] - 2s 6ms/step - loss: 0.6945 - val_loss: 0.6945\n",
      "Epoch 4/50\n",
      "235/235 [==============================] - 1s 6ms/step - loss: 0.6943 - val_loss: 0.6943\n",
      "Epoch 5/50\n",
      "235/235 [==============================] - 1s 6ms/step - loss: 0.6942 - val_loss: 0.6942\n",
      "Epoch 6/50\n",
      "235/235 [==============================] - 1s 6ms/step - loss: 0.6940 - val_loss: 0.6940\n",
      "Epoch 7/50\n",
      "235/235 [==============================] - 1s 6ms/step - loss: 0.6939 - val_loss: 0.6938\n",
      "Epoch 8/50\n",
      "235/235 [==============================] - 2s 6ms/step - loss: 0.6937 - val_loss: 0.6937\n",
      "Epoch 9/50\n",
      "235/235 [==============================] - 1s 6ms/step - loss: 0.6935 - val_loss: 0.6935\n",
      "Epoch 10/50\n",
      "235/235 [==============================] - 1s 6ms/step - loss: 0.6934 - val_loss: 0.6934\n",
      "Epoch 11/50\n",
      "235/235 [==============================] - 1s 6ms/step - loss: 0.6932 - val_loss: 0.6932\n",
      "Epoch 12/50\n",
      "235/235 [==============================] - 1s 6ms/step - loss: 0.6931 - val_loss: 0.6930\n",
      "Epoch 13/50\n",
      "235/235 [==============================] - 1s 6ms/step - loss: 0.6929 - val_loss: 0.6929\n",
      "Epoch 14/50\n",
      "235/235 [==============================] - 1s 6ms/step - loss: 0.6927 - val_loss: 0.6927\n",
      "Epoch 15/50\n",
      "235/235 [==============================] - 1s 6ms/step - loss: 0.6926 - val_loss: 0.6926\n",
      "Epoch 16/50\n",
      "235/235 [==============================] - 1s 6ms/step - loss: 0.6924 - val_loss: 0.6924\n",
      "Epoch 17/50\n",
      "235/235 [==============================] - 1s 5ms/step - loss: 0.6923 - val_loss: 0.6923\n",
      "Epoch 18/50\n",
      "235/235 [==============================] - 1s 6ms/step - loss: 0.6921 - val_loss: 0.6921\n",
      "Epoch 19/50\n",
      "235/235 [==============================] - 1s 6ms/step - loss: 0.6920 - val_loss: 0.6920\n",
      "Epoch 20/50\n",
      "235/235 [==============================] - 1s 6ms/step - loss: 0.6918 - val_loss: 0.6918\n",
      "Epoch 21/50\n",
      "235/235 [==============================] - 1s 6ms/step - loss: 0.6917 - val_loss: 0.6917\n",
      "Epoch 22/50\n",
      "235/235 [==============================] - 2s 7ms/step - loss: 0.6915 - val_loss: 0.6915\n",
      "Epoch 23/50\n",
      "235/235 [==============================] - 2s 8ms/step - loss: 0.6914 - val_loss: 0.6914\n",
      "Epoch 24/50\n",
      "235/235 [==============================] - 2s 8ms/step - loss: 0.6912 - val_loss: 0.6912\n",
      "Epoch 25/50\n",
      "235/235 [==============================] - 2s 8ms/step - loss: 0.6911 - val_loss: 0.6911\n",
      "Epoch 26/50\n",
      "235/235 [==============================] - 2s 8ms/step - loss: 0.6909 - val_loss: 0.6909\n",
      "Epoch 27/50\n",
      "235/235 [==============================] - 2s 7ms/step - loss: 0.6908 - val_loss: 0.6908\n",
      "Epoch 28/50\n",
      "235/235 [==============================] - 2s 6ms/step - loss: 0.6906 - val_loss: 0.6906\n",
      "Epoch 29/50\n",
      "235/235 [==============================] - 1s 5ms/step - loss: 0.6905 - val_loss: 0.6904\n",
      "Epoch 30/50\n",
      "235/235 [==============================] - 1s 5ms/step - loss: 0.6903 - val_loss: 0.6903\n",
      "Epoch 31/50\n",
      "235/235 [==============================] - 1s 6ms/step - loss: 0.6902 - val_loss: 0.6901\n",
      "Epoch 32/50\n",
      "235/235 [==============================] - 1s 6ms/step - loss: 0.6900 - val_loss: 0.6900\n",
      "Epoch 33/50\n",
      "235/235 [==============================] - 1s 6ms/step - loss: 0.6898 - val_loss: 0.6898\n",
      "Epoch 34/50\n",
      "235/235 [==============================] - 1s 5ms/step - loss: 0.6897 - val_loss: 0.6896\n",
      "Epoch 35/50\n",
      "235/235 [==============================] - 1s 5ms/step - loss: 0.6895 - val_loss: 0.6895\n",
      "Epoch 36/50\n",
      "235/235 [==============================] - 1s 5ms/step - loss: 0.6894 - val_loss: 0.6893\n",
      "Epoch 37/50\n",
      "235/235 [==============================] - 1s 5ms/step - loss: 0.6892 - val_loss: 0.6891\n",
      "Epoch 38/50\n",
      "235/235 [==============================] - 1s 5ms/step - loss: 0.6890 - val_loss: 0.6890\n",
      "Epoch 39/50\n",
      "235/235 [==============================] - 1s 6ms/step - loss: 0.6888 - val_loss: 0.6888\n",
      "Epoch 40/50\n",
      "235/235 [==============================] - 1s 6ms/step - loss: 0.6887 - val_loss: 0.6886\n",
      "Epoch 41/50\n",
      "235/235 [==============================] - 1s 5ms/step - loss: 0.6885 - val_loss: 0.6884\n",
      "Epoch 42/50\n",
      "235/235 [==============================] - 1s 5ms/step - loss: 0.6883 - val_loss: 0.6883\n",
      "Epoch 43/50\n",
      "235/235 [==============================] - 1s 5ms/step - loss: 0.6881 - val_loss: 0.6881\n",
      "Epoch 44/50\n",
      "235/235 [==============================] - 1s 6ms/step - loss: 0.6880 - val_loss: 0.6879\n",
      "Epoch 45/50\n",
      "235/235 [==============================] - 2s 6ms/step - loss: 0.6878 - val_loss: 0.6877\n",
      "Epoch 46/50\n",
      "235/235 [==============================] - 1s 6ms/step - loss: 0.6876 - val_loss: 0.6875\n",
      "Epoch 47/50\n",
      "235/235 [==============================] - 2s 7ms/step - loss: 0.6874 - val_loss: 0.6873\n",
      "Epoch 48/50\n",
      "235/235 [==============================] - 1s 6ms/step - loss: 0.6872 - val_loss: 0.6871\n",
      "Epoch 49/50\n",
      "235/235 [==============================] - 2s 7ms/step - loss: 0.6870 - val_loss: 0.6869\n",
      "Epoch 50/50\n",
      "235/235 [==============================] - 1s 6ms/step - loss: 0.6868 - val_loss: 0.6867\n"
     ]
    },
    {
     "data": {
      "text/plain": [
       "<keras.callbacks.History at 0x1aee0c732b0>"
      ]
     },
     "execution_count": 24,
     "metadata": {},
     "output_type": "execute_result"
    }
   ],
   "source": [
    "autoencoder.fit(x_train, x_train,\n",
    "                epochs=50,\n",
    "                batch_size=256,\n",
    "                shuffle=True,\n",
    "                validation_data=(x_test, x_test))"
   ]
  },
  {
   "cell_type": "code",
   "execution_count": 25,
   "metadata": {
    "slideshow": {
     "slide_type": "subslide"
    }
   },
   "outputs": [],
   "source": [
    "# ignore training for now, just load the model\n",
    "from keras.models import load_model\n",
    "autoencoder = load_model('sparseAE.h5')"
   ]
  },
  {
   "cell_type": "code",
   "execution_count": 26,
   "metadata": {
    "slideshow": {
     "slide_type": "subslide"
    }
   },
   "outputs": [],
   "source": [
    "# save models and weights\n",
    "autoencoder.save('sparseAE.h5')"
   ]
  },
  {
   "cell_type": "code",
   "execution_count": 27,
   "metadata": {
    "slideshow": {
     "slide_type": "subslide"
    }
   },
   "outputs": [
    {
     "data": {
      "image/png": "[encoded data removed]",
      "text/plain": [
       "<Figure size 864x216 with 10 Axes>"
      ]
     },
     "metadata": {
      "needs_background": "light"
     },
     "output_type": "display_data"
    },
    {
     "data": {
      "image/png": "[encoded data removed]",
      "text/plain": [
       "<Figure size 864x216 with 10 Axes>"
      ]
     },
     "metadata": {
      "needs_background": "light"
     },
     "output_type": "display_data"
    }
   ],
   "source": [
    "decodedImgs = autoencoder.predict(x_test)\n",
    "allIdx = range(10)\n",
    "plotSpecialTool(x_test,[],samples2Visualize=10,factors=[1,10], figsize=(12,3), grayFlag=False, thr=0.0, reshaper=(28,28), indexes=allIdx)\n",
    "plotSpecialTool(decodedImgs,[],samples2Visualize=10,factors=[1,10], figsize=(12,3), grayFlag=False, thr=0.0, reshaper=(28,28), indexes=allIdx)\n",
    "plt.show()"
   ]
  },
  {
   "cell_type": "markdown",
   "metadata": {
    "slideshow": {
     "slide_type": "slide"
    }
   },
   "source": [
    "## Deep AutoEncoder:"
   ]
  },
  {
   "cell_type": "code",
   "execution_count": 28,
   "metadata": {
    "slideshow": {
     "slide_type": "subslide"
    }
   },
   "outputs": [],
   "source": [
    "# easily extendible to deep\n",
    "input_img = Input(shape=(784,))\n",
    "encoded = Dense(128, activation='relu')(input_img)"
   ]
  },
  {
   "cell_type": "code",
   "execution_count": 29,
   "metadata": {
    "slideshow": {
     "slide_type": "fragment"
    }
   },
   "outputs": [],
   "source": [
    "encoded = Dense(64, activation='relu')(encoded)"
   ]
  },
  {
   "cell_type": "code",
   "execution_count": 30,
   "metadata": {
    "slideshow": {
     "slide_type": "fragment"
    }
   },
   "outputs": [],
   "source": [
    "encoded = Dense(32, activation='relu')(encoded)"
   ]
  },
  {
   "cell_type": "code",
   "execution_count": 31,
   "metadata": {
    "slideshow": {
     "slide_type": "subslide"
    }
   },
   "outputs": [],
   "source": [
    "decoded = Dense(64, activation='relu')(encoded)\n",
    "decoded = Dense(128, activation='relu')(decoded)\n",
    "decoded = Dense(784, activation='sigmoid')(decoded)"
   ]
  },
  {
   "cell_type": "code",
   "execution_count": 32,
   "metadata": {
    "slideshow": {
     "slide_type": "subslide"
    }
   },
   "outputs": [
    {
     "name": "stdout",
     "output_type": "stream",
     "text": [
      "Epoch 1/100\n",
      "235/235 [==============================] - 3s 9ms/step - loss: 0.6920 - val_loss: 0.6919\n",
      "Epoch 2/100\n",
      "235/235 [==============================] - 2s 9ms/step - loss: 0.6919 - val_loss: 0.6918\n",
      "Epoch 3/100\n",
      "235/235 [==============================] - 2s 9ms/step - loss: 0.6918 - val_loss: 0.6917\n",
      "Epoch 4/100\n",
      "235/235 [==============================] - 2s 9ms/step - loss: 0.6917 - val_loss: 0.6916\n",
      "Epoch 5/100\n",
      "235/235 [==============================] - 2s 9ms/step - loss: 0.6915 - val_loss: 0.6915\n",
      "Epoch 6/100\n",
      "235/235 [==============================] - 2s 8ms/step - loss: 0.6914 - val_loss: 0.6913\n",
      "Epoch 7/100\n",
      "235/235 [==============================] - 2s 8ms/step - loss: 0.6913 - val_loss: 0.6912\n",
      "Epoch 8/100\n",
      "235/235 [==============================] - 2s 8ms/step - loss: 0.6912 - val_loss: 0.6911\n",
      "Epoch 9/100\n",
      "235/235 [==============================] - 2s 8ms/step - loss: 0.6911 - val_loss: 0.6910\n",
      "Epoch 10/100\n",
      "235/235 [==============================] - 2s 8ms/step - loss: 0.6909 - val_loss: 0.6908\n",
      "Epoch 11/100\n",
      "235/235 [==============================] - 2s 8ms/step - loss: 0.6908 - val_loss: 0.6907\n",
      "Epoch 12/100\n",
      "235/235 [==============================] - 2s 8ms/step - loss: 0.6907 - val_loss: 0.6906\n",
      "Epoch 13/100\n",
      "235/235 [==============================] - 3s 11ms/step - loss: 0.6905 - val_loss: 0.6904\n",
      "Epoch 14/100\n",
      "235/235 [==============================] - 3s 11ms/step - loss: 0.6904 - val_loss: 0.6903\n",
      "Epoch 15/100\n",
      "235/235 [==============================] - 2s 10ms/step - loss: 0.6902 - val_loss: 0.6901\n",
      "Epoch 16/100\n",
      "235/235 [==============================] - 2s 11ms/step - loss: 0.6901 - val_loss: 0.6900\n",
      "Epoch 17/100\n",
      "235/235 [==============================] - 2s 11ms/step - loss: 0.6899 - val_loss: 0.6898\n",
      "Epoch 18/100\n",
      "235/235 [==============================] - 2s 9ms/step - loss: 0.6898 - val_loss: 0.6897\n",
      "Epoch 19/100\n",
      "235/235 [==============================] - 2s 8ms/step - loss: 0.6896 - val_loss: 0.6895\n",
      "Epoch 20/100\n",
      "235/235 [==============================] - 2s 7ms/step - loss: 0.6895 - val_loss: 0.6894\n",
      "Epoch 21/100\n",
      "235/235 [==============================] - 2s 8ms/step - loss: 0.6893 - val_loss: 0.6892\n",
      "Epoch 22/100\n",
      "235/235 [==============================] - 2s 9ms/step - loss: 0.6891 - val_loss: 0.6890\n",
      "Epoch 23/100\n",
      "235/235 [==============================] - 2s 9ms/step - loss: 0.6890 - val_loss: 0.6888\n",
      "Epoch 24/100\n",
      "235/235 [==============================] - 2s 8ms/step - loss: 0.6888 - val_loss: 0.6886\n",
      "Epoch 25/100\n",
      "235/235 [==============================] - 2s 9ms/step - loss: 0.6886 - val_loss: 0.6885\n",
      "Epoch 26/100\n",
      "235/235 [==============================] - 2s 9ms/step - loss: 0.6884 - val_loss: 0.6883\n",
      "Epoch 27/100\n",
      "235/235 [==============================] - 2s 9ms/step - loss: 0.6882 - val_loss: 0.6881\n",
      "Epoch 28/100\n",
      "235/235 [==============================] - 2s 10ms/step - loss: 0.6880 - val_loss: 0.6878\n",
      "Epoch 29/100\n",
      "235/235 [==============================] - 2s 10ms/step - loss: 0.6878 - val_loss: 0.6876\n",
      "Epoch 30/100\n",
      "235/235 [==============================] - 2s 10ms/step - loss: 0.6876 - val_loss: 0.6874\n",
      "Epoch 31/100\n",
      "235/235 [==============================] - 2s 8ms/step - loss: 0.6874 - val_loss: 0.6872\n",
      "Epoch 32/100\n",
      "235/235 [==============================] - 2s 8ms/step - loss: 0.6871 - val_loss: 0.6869\n",
      "Epoch 33/100\n",
      "235/235 [==============================] - 2s 10ms/step - loss: 0.6869 - val_loss: 0.6867\n",
      "Epoch 34/100\n",
      "235/235 [==============================] - 2s 8ms/step - loss: 0.6866 - val_loss: 0.6864\n",
      "Epoch 35/100\n",
      "235/235 [==============================] - 2s 8ms/step - loss: 0.6864 - val_loss: 0.6862\n",
      "Epoch 36/100\n",
      "235/235 [==============================] - 2s 9ms/step - loss: 0.6861 - val_loss: 0.6859\n",
      "Epoch 37/100\n",
      "235/235 [==============================] - 2s 10ms/step - loss: 0.6858 - val_loss: 0.6856\n",
      "Epoch 38/100\n",
      "235/235 [==============================] - 2s 10ms/step - loss: 0.6855 - val_loss: 0.6853\n",
      "Epoch 39/100\n",
      "235/235 [==============================] - 2s 10ms/step - loss: 0.6852 - val_loss: 0.6850\n",
      "Epoch 40/100\n",
      "235/235 [==============================] - 2s 9ms/step - loss: 0.6849 - val_loss: 0.6846\n",
      "Epoch 41/100\n",
      "235/235 [==============================] - 2s 9ms/step - loss: 0.6845 - val_loss: 0.6843\n",
      "Epoch 42/100\n",
      "235/235 [==============================] - 2s 9ms/step - loss: 0.6842 - val_loss: 0.6839\n",
      "Epoch 43/100\n",
      "235/235 [==============================] - 2s 10ms/step - loss: 0.6838 - val_loss: 0.6835\n",
      "Epoch 44/100\n",
      "235/235 [==============================] - 2s 9ms/step - loss: 0.6834 - val_loss: 0.6831\n",
      "Epoch 45/100\n",
      "235/235 [==============================] - 2s 10ms/step - loss: 0.6830 - val_loss: 0.6827\n",
      "Epoch 46/100\n",
      "235/235 [==============================] - 2s 9ms/step - loss: 0.6826 - val_loss: 0.6823\n",
      "Epoch 47/100\n",
      "235/235 [==============================] - 2s 8ms/step - loss: 0.6822 - val_loss: 0.6818\n",
      "Epoch 48/100\n",
      "235/235 [==============================] - 2s 9ms/step - loss: 0.6817 - val_loss: 0.6813\n",
      "Epoch 49/100\n",
      "235/235 [==============================] - 2s 9ms/step - loss: 0.6812 - val_loss: 0.6808\n",
      "Epoch 50/100\n",
      "235/235 [==============================] - 2s 7ms/step - loss: 0.6806 - val_loss: 0.6802\n",
      "Epoch 51/100\n",
      "235/235 [==============================] - 2s 7ms/step - loss: 0.6801 - val_loss: 0.6796\n",
      "Epoch 52/100\n",
      "235/235 [==============================] - 2s 8ms/step - loss: 0.6795 - val_loss: 0.6790\n",
      "Epoch 53/100\n",
      "235/235 [==============================] - 2s 9ms/step - loss: 0.6789 - val_loss: 0.6784\n",
      "Epoch 54/100\n",
      "235/235 [==============================] - 2s 8ms/step - loss: 0.6782 - val_loss: 0.6777\n",
      "Epoch 55/100\n",
      "235/235 [==============================] - 2s 8ms/step - loss: 0.6775 - val_loss: 0.6769\n",
      "Epoch 56/100\n",
      "235/235 [==============================] - 2s 8ms/step - loss: 0.6767 - val_loss: 0.6761\n",
      "Epoch 57/100\n",
      "235/235 [==============================] - 2s 8ms/step - loss: 0.6759 - val_loss: 0.6753\n",
      "Epoch 58/100\n",
      "235/235 [==============================] - 2s 8ms/step - loss: 0.6751 - val_loss: 0.6744\n",
      "Epoch 59/100\n",
      "235/235 [==============================] - 2s 8ms/step - loss: 0.6742 - val_loss: 0.6734\n",
      "Epoch 60/100\n",
      "235/235 [==============================] - 2s 9ms/step - loss: 0.6732 - val_loss: 0.6724\n",
      "Epoch 61/100\n",
      "235/235 [==============================] - 3s 11ms/step - loss: 0.6721 - val_loss: 0.6713\n",
      "Epoch 62/100\n",
      "235/235 [==============================] - 3s 11ms/step - loss: 0.6710 - val_loss: 0.6701\n",
      "Epoch 63/100\n",
      "235/235 [==============================] - 2s 10ms/step - loss: 0.6698 - val_loss: 0.6689\n",
      "Epoch 64/100\n",
      "235/235 [==============================] - 2s 10ms/step - loss: 0.6685 - val_loss: 0.6675\n",
      "Epoch 65/100\n",
      "235/235 [==============================] - 2s 9ms/step - loss: 0.6671 - val_loss: 0.6660\n",
      "Epoch 66/100\n",
      "235/235 [==============================] - 2s 9ms/step - loss: 0.6656 - val_loss: 0.6644\n",
      "Epoch 67/100\n",
      "235/235 [==============================] - 2s 8ms/step - loss: 0.6640 - val_loss: 0.6627\n",
      "Epoch 68/100\n",
      "235/235 [==============================] - 2s 9ms/step - loss: 0.6622 - val_loss: 0.6608\n",
      "Epoch 69/100\n",
      "235/235 [==============================] - 2s 8ms/step - loss: 0.6603 - val_loss: 0.6588\n",
      "Epoch 70/100\n",
      "235/235 [==============================] - 2s 8ms/step - loss: 0.6582 - val_loss: 0.6566\n",
      "Epoch 71/100\n",
      "235/235 [==============================] - 2s 7ms/step - loss: 0.6559 - val_loss: 0.6542\n",
      "Epoch 72/100\n",
      "235/235 [==============================] - 2s 8ms/step - loss: 0.6535 - val_loss: 0.6516\n",
      "Epoch 73/100\n",
      "235/235 [==============================] - 2s 8ms/step - loss: 0.6508 - val_loss: 0.6488\n",
      "Epoch 74/100\n",
      "235/235 [==============================] - 2s 8ms/step - loss: 0.6479 - val_loss: 0.6457\n",
      "Epoch 75/100\n",
      "235/235 [==============================] - 2s 10ms/step - loss: 0.6447 - val_loss: 0.6424\n",
      "Epoch 76/100\n",
      "235/235 [==============================] - 2s 9ms/step - loss: 0.6413 - val_loss: 0.6387\n",
      "Epoch 77/100\n",
      "235/235 [==============================] - 2s 10ms/step - loss: 0.6375 - val_loss: 0.6347\n",
      "Epoch 78/100\n",
      "235/235 [==============================] - 2s 9ms/step - loss: 0.6333 - val_loss: 0.6303\n",
      "Epoch 79/100\n",
      "235/235 [==============================] - 2s 8ms/step - loss: 0.6288 - val_loss: 0.6256\n",
      "Epoch 80/100\n",
      "235/235 [==============================] - 2s 8ms/step - loss: 0.6239 - val_loss: 0.6204\n",
      "Epoch 81/100\n"
     ]
    },
    {
     "name": "stdout",
     "output_type": "stream",
     "text": [
      "235/235 [==============================] - 2s 8ms/step - loss: 0.6185 - val_loss: 0.6147\n",
      "Epoch 82/100\n",
      "235/235 [==============================] - 2s 8ms/step - loss: 0.6126 - val_loss: 0.6085\n",
      "Epoch 83/100\n",
      "235/235 [==============================] - 2s 8ms/step - loss: 0.6062 - val_loss: 0.6017\n",
      "Epoch 84/100\n",
      "235/235 [==============================] - 2s 8ms/step - loss: 0.5992 - val_loss: 0.5944\n",
      "Epoch 85/100\n",
      "235/235 [==============================] - 2s 10ms/step - loss: 0.5916 - val_loss: 0.5865\n",
      "Epoch 86/100\n",
      "235/235 [==============================] - 2s 9ms/step - loss: 0.5835 - val_loss: 0.5779\n",
      "Epoch 87/100\n",
      "235/235 [==============================] - 2s 9ms/step - loss: 0.5746 - val_loss: 0.5687\n",
      "Epoch 88/100\n",
      "235/235 [==============================] - 2s 9ms/step - loss: 0.5651 - val_loss: 0.5588\n",
      "Epoch 89/100\n",
      "235/235 [==============================] - 2s 9ms/step - loss: 0.5549 - val_loss: 0.5482\n",
      "Epoch 90/100\n",
      "235/235 [==============================] - 2s 8ms/step - loss: 0.5441 - val_loss: 0.5371\n",
      "Epoch 91/100\n",
      "235/235 [==============================] - 2s 8ms/step - loss: 0.5327 - val_loss: 0.5253\n",
      "Epoch 92/100\n",
      "235/235 [==============================] - 2s 8ms/step - loss: 0.5207 - val_loss: 0.5129\n",
      "Epoch 93/100\n",
      "235/235 [==============================] - 2s 9ms/step - loss: 0.5081 - val_loss: 0.5001\n",
      "Epoch 94/100\n",
      "235/235 [==============================] - 2s 8ms/step - loss: 0.4951 - val_loss: 0.4869\n",
      "Epoch 95/100\n",
      "235/235 [==============================] - 2s 9ms/step - loss: 0.4818 - val_loss: 0.4734\n",
      "Epoch 96/100\n",
      "235/235 [==============================] - 2s 9ms/step - loss: 0.4682 - val_loss: 0.4598\n",
      "Epoch 97/100\n",
      "235/235 [==============================] - 3s 11ms/step - loss: 0.4546 - val_loss: 0.4462\n",
      "Epoch 98/100\n",
      "235/235 [==============================] - 2s 10ms/step - loss: 0.4410 - val_loss: 0.4327\n",
      "Epoch 99/100\n",
      "235/235 [==============================] - 2s 9ms/step - loss: 0.4276 - val_loss: 0.4195\n",
      "Epoch 100/100\n",
      "235/235 [==============================] - 2s 9ms/step - loss: 0.4146 - val_loss: 0.4067\n"
     ]
    },
    {
     "data": {
      "text/plain": [
       "<keras.callbacks.History at 0x1aed8fe6430>"
      ]
     },
     "execution_count": 32,
     "metadata": {},
     "output_type": "execute_result"
    }
   ],
   "source": [
    "autoencoder = Model(input_img, decoded)\n",
    "autoencoder.compile(optimizer='adadelta', loss='binary_crossentropy')\n",
    "\n",
    "autoencoder.fit(x_train, x_train,\n",
    "                epochs=100,\n",
    "                batch_size=256,\n",
    "                shuffle=True,\n",
    "                validation_data=(x_test, x_test))"
   ]
  },
  {
   "cell_type": "code",
   "execution_count": 33,
   "metadata": {
    "slideshow": {
     "slide_type": "subslide"
    }
   },
   "outputs": [],
   "source": [
    "# ignore training for now, just load the model\n",
    "from keras.models import load_model\n",
    "autoencoder = load_model('deepAE.h5')"
   ]
  },
  {
   "cell_type": "code",
   "execution_count": 34,
   "metadata": {
    "slideshow": {
     "slide_type": "subslide"
    }
   },
   "outputs": [],
   "source": [
    "# save models and weights\n",
    "autoencoder.save('deepAE.h5')"
   ]
  },
  {
   "cell_type": "code",
   "execution_count": 35,
   "metadata": {
    "slideshow": {
     "slide_type": "subslide"
    }
   },
   "outputs": [
    {
     "data": {
      "image/png": "[encoded data removed]",
      "text/plain": [
       "<Figure size 864x216 with 10 Axes>"
      ]
     },
     "metadata": {
      "needs_background": "light"
     },
     "output_type": "display_data"
    },
    {
     "data": {
      "image/png": "[encoded data removed]",
      "text/plain": [
       "<Figure size 864x216 with 10 Axes>"
      ]
     },
     "metadata": {
      "needs_background": "light"
     },
     "output_type": "display_data"
    }
   ],
   "source": [
    "decodedImgs = autoencoder.predict(x_test)\n",
    "allIdx = range(10)\n",
    "plotSpecialTool(x_test,[],samples2Visualize=10,factors=[1,10], figsize=(12,3), grayFlag=False, thr=0.0, reshaper=(28,28), indexes=allIdx)\n",
    "plotSpecialTool(decodedImgs,[],samples2Visualize=10,factors=[1,10], figsize=(12,3), grayFlag=False, thr=0.0, reshaper=(28,28), indexes=allIdx)\n",
    "plt.show()"
   ]
  },
  {
   "cell_type": "markdown",
   "metadata": {
    "collapsed": true,
    "slideshow": {
     "slide_type": "slide"
    }
   },
   "source": [
    "Encoder and and decoder steps can be fully connected, convolutional, recurrent, etc."
   ]
  },
  {
   "cell_type": "markdown",
   "metadata": {
    "slideshow": {
     "slide_type": "fragment"
    }
   },
   "source": [
    "<div style=\"width: 1000px; float:right;margin:0 10px 10px 0\" markdown=\"1\">\n",
    "![tfImage](elements/images/01AE/Autoencoder.png)\n",
    "</div>"
   ]
  },
  {
   "cell_type": "markdown",
   "metadata": {
    "slideshow": {
     "slide_type": "slide"
    }
   },
   "source": [
    "## Convolutional AutoEncoder"
   ]
  },
  {
   "cell_type": "code",
   "execution_count": 36,
   "metadata": {
    "slideshow": {
     "slide_type": "subslide"
    }
   },
   "outputs": [],
   "source": [
    "from keras.datasets import mnist\n",
    "import numpy as np\n",
    "\n",
    "(x_train, _), (x_test, _) = mnist.load_data()\n",
    "\n",
    "x_train = x_train.astype('float32') / 255.\n",
    "x_test = x_test.astype('float32') / 255.\n",
    "x_train = np.reshape(x_train, (len(x_train), 28, 28, 1))  # adapt this if using `channels_first` image data format\n",
    "x_test = np.reshape(x_test, (len(x_test), 28, 28, 1))  # adapt this if using `channels_first` image data format"
   ]
  },
  {
   "cell_type": "code",
   "execution_count": 37,
   "metadata": {
    "slideshow": {
     "slide_type": "subslide"
    }
   },
   "outputs": [],
   "source": [
    "from keras.layers import Input, Dense, Conv2D, MaxPooling2D, UpSampling2D\n",
    "from keras.models import Model\n",
    "from keras import backend as K\n",
    "\n",
    "input_img = Input(shape=(28, 28, 1))  # adapt this if using `channels_first` image data format"
   ]
  },
  {
   "cell_type": "code",
   "execution_count": 38,
   "metadata": {
    "slideshow": {
     "slide_type": "subslide"
    }
   },
   "outputs": [],
   "source": [
    "x = Conv2D(16, (3, 3), activation='relu', padding='same')(input_img)"
   ]
  },
  {
   "cell_type": "code",
   "execution_count": 39,
   "metadata": {
    "slideshow": {
     "slide_type": "fragment"
    }
   },
   "outputs": [],
   "source": [
    "x = MaxPooling2D((2, 2), padding='same')(x)"
   ]
  },
  {
   "cell_type": "code",
   "execution_count": 40,
   "metadata": {
    "slideshow": {
     "slide_type": "fragment"
    }
   },
   "outputs": [],
   "source": [
    "x = Conv2D(8, (3, 3), activation='relu', padding='same')(x)"
   ]
  },
  {
   "cell_type": "code",
   "execution_count": 41,
   "metadata": {
    "slideshow": {
     "slide_type": "subslide"
    }
   },
   "outputs": [],
   "source": [
    "x = MaxPooling2D((2, 2), padding='same')(x)"
   ]
  },
  {
   "cell_type": "code",
   "execution_count": 42,
   "metadata": {
    "slideshow": {
     "slide_type": "fragment"
    }
   },
   "outputs": [],
   "source": [
    "x = Conv2D(8, (3, 3), activation='relu', padding='same')(x)"
   ]
  },
  {
   "cell_type": "code",
   "execution_count": 43,
   "metadata": {
    "slideshow": {
     "slide_type": "fragment"
    }
   },
   "outputs": [],
   "source": [
    "encoded = MaxPooling2D((2, 2), padding='same')(x)"
   ]
  },
  {
   "cell_type": "code",
   "execution_count": 44,
   "metadata": {
    "slideshow": {
     "slide_type": "subslide"
    }
   },
   "outputs": [],
   "source": [
    "x = Conv2D(8, (3, 3), activation='relu', padding='same')(encoded)"
   ]
  },
  {
   "cell_type": "code",
   "execution_count": 45,
   "metadata": {
    "slideshow": {
     "slide_type": "fragment"
    }
   },
   "outputs": [],
   "source": [
    "x = UpSampling2D((2, 2))(x)"
   ]
  },
  {
   "cell_type": "code",
   "execution_count": 46,
   "metadata": {
    "slideshow": {
     "slide_type": "fragment"
    }
   },
   "outputs": [],
   "source": [
    "x = Conv2D(8, (3, 3), activation='relu', padding='same')(x)"
   ]
  },
  {
   "cell_type": "code",
   "execution_count": 47,
   "metadata": {
    "slideshow": {
     "slide_type": "fragment"
    }
   },
   "outputs": [],
   "source": [
    "x = UpSampling2D((2, 2))(x)"
   ]
  },
  {
   "cell_type": "code",
   "execution_count": 48,
   "metadata": {
    "slideshow": {
     "slide_type": "subslide"
    }
   },
   "outputs": [],
   "source": [
    "x = Conv2D(16, (3, 3), activation='relu')(x)"
   ]
  },
  {
   "cell_type": "code",
   "execution_count": 49,
   "metadata": {
    "slideshow": {
     "slide_type": "fragment"
    }
   },
   "outputs": [],
   "source": [
    "x = UpSampling2D((2, 2))(x)"
   ]
  },
  {
   "cell_type": "code",
   "execution_count": 50,
   "metadata": {
    "slideshow": {
     "slide_type": "fragment"
    }
   },
   "outputs": [],
   "source": [
    "decoded = Conv2D(1, (3, 3), activation='sigmoid', padding='same')(x)"
   ]
  },
  {
   "cell_type": "code",
   "execution_count": 51,
   "metadata": {
    "slideshow": {
     "slide_type": "subslide"
    }
   },
   "outputs": [],
   "source": [
    "autoencoder = Model(input_img, decoded)\n",
    "autoencoder.compile(optimizer='adadelta', loss='binary_crossentropy')"
   ]
  },
  {
   "cell_type": "markdown",
   "metadata": {
    "slideshow": {
     "slide_type": "subslide"
    }
   },
   "source": [
    "# run tensorboard in your command line\n",
    "tensorboard --logdir=/tmp/autoencoder"
   ]
  },
  {
   "cell_type": "code",
   "execution_count": 52,
   "metadata": {
    "slideshow": {
     "slide_type": "subslide"
    }
   },
   "outputs": [
    {
     "name": "stdout",
     "output_type": "stream",
     "text": [
      "Epoch 1/5\n",
      "469/469 [==============================] - 44s 91ms/step - loss: 0.7027 - val_loss: 0.7009\n",
      "Epoch 2/5\n",
      "469/469 [==============================] - 44s 94ms/step - loss: 0.6992 - val_loss: 0.6974\n",
      "Epoch 3/5\n",
      "469/469 [==============================] - 46s 99ms/step - loss: 0.6957 - val_loss: 0.6940\n",
      "Epoch 4/5\n",
      "469/469 [==============================] - 45s 96ms/step - loss: 0.6920 - val_loss: 0.6898\n",
      "Epoch 5/5\n",
      "469/469 [==============================] - 52s 111ms/step - loss: 0.6869 - val_loss: 0.6835\n"
     ]
    },
    {
     "data": {
      "text/plain": [
       "<keras.callbacks.History at 0x1ae80055520>"
      ]
     },
     "execution_count": 52,
     "metadata": {},
     "output_type": "execute_result"
    }
   ],
   "source": [
    "from keras.callbacks import TensorBoard\n",
    "\n",
    "autoencoder.fit(x_train, x_train,\n",
    "                epochs=5,\n",
    "                batch_size=128,\n",
    "                shuffle=True,\n",
    "                validation_data=(x_test, x_test),\n",
    "                callbacks=[TensorBoard(log_dir='/tmp/autoencoder')])"
   ]
  },
  {
   "cell_type": "code",
   "execution_count": 53,
   "metadata": {
    "slideshow": {
     "slide_type": "subslide"
    }
   },
   "outputs": [],
   "source": [
    "# ignore training for now, just load the model\n",
    "from keras.models import load_model\n",
    "autoencoder = load_model('convAE.h5')"
   ]
  },
  {
   "cell_type": "code",
   "execution_count": 54,
   "metadata": {
    "slideshow": {
     "slide_type": "subslide"
    }
   },
   "outputs": [],
   "source": [
    "# save models and weights\n",
    "autoencoder.save('convAE.h5')"
   ]
  },
  {
   "cell_type": "code",
   "execution_count": 55,
   "metadata": {
    "slideshow": {
     "slide_type": "subslide"
    }
   },
   "outputs": [
    {
     "data": {
      "image/png": "[encoded data removed]",
      "text/plain": [
       "<Figure size 864x216 with 10 Axes>"
      ]
     },
     "metadata": {
      "needs_background": "light"
     },
     "output_type": "display_data"
    },
    {
     "data": {
      "image/png": "[encoded data removed]",
      "text/plain": [
       "<Figure size 864x216 with 10 Axes>"
      ]
     },
     "metadata": {
      "needs_background": "light"
     },
     "output_type": "display_data"
    }
   ],
   "source": [
    "decodedImgs = autoencoder.predict(x_test)\n",
    "allIdx = range(10)\n",
    "plotSpecialTool(x_test,[],samples2Visualize=10,factors=[1,10], figsize=(12,3), grayFlag=False, thr=0.0, reshaper=(28,28), indexes=allIdx)\n",
    "plotSpecialTool(decodedImgs,[],samples2Visualize=10,factors=[1,10], figsize=(12,3), grayFlag=False, thr=0.0, reshaper=(28,28), indexes=allIdx)\n",
    "plt.show()"
   ]
  },
  {
   "cell_type": "markdown",
   "metadata": {
    "slideshow": {
     "slide_type": "slide"
    }
   },
   "source": [
    "## Denoising AutoEncoder"
   ]
  },
  {
   "cell_type": "code",
   "execution_count": 56,
   "metadata": {
    "slideshow": {
     "slide_type": "subslide"
    }
   },
   "outputs": [],
   "source": [
    "from keras.datasets import mnist\n",
    "import numpy as np\n",
    "\n",
    "(x_train, _), (x_test, _) = mnist.load_data()\n",
    "\n",
    "x_train = x_train.astype('float32') / 255.\n",
    "x_test = x_test.astype('float32') / 255.\n",
    "x_train = np.reshape(x_train, (len(x_train), 28, 28, 1))  # adapt this if using `channels_first` image data format\n",
    "x_test = np.reshape(x_test, (len(x_test), 28, 28, 1))  # adapt this if using `channels_first` image data format"
   ]
  },
  {
   "cell_type": "code",
   "execution_count": 57,
   "metadata": {
    "slideshow": {
     "slide_type": "subslide"
    }
   },
   "outputs": [],
   "source": [
    "noise_factor = 0.5\n",
    "x_train_noisy = x_train + noise_factor * np.random.normal(loc=0.0, scale=1.0, size=x_train.shape) \n",
    "x_test_noisy = x_test + noise_factor * np.random.normal(loc=0.0, scale=1.0, size=x_test.shape) \n",
    "\n",
    "x_train_noisy = np.clip(x_train_noisy, 0., 1.)\n",
    "x_test_noisy = np.clip(x_test_noisy, 0., 1.)"
   ]
  },
  {
   "cell_type": "code",
   "execution_count": 58,
   "metadata": {
    "slideshow": {
     "slide_type": "subslide"
    }
   },
   "outputs": [
    {
     "data": {
      "image/png": "[encoded data removed]",
      "text/plain": [
       "<Figure size 864x216 with 10 Axes>"
      ]
     },
     "metadata": {
      "needs_background": "light"
     },
     "output_type": "display_data"
    }
   ],
   "source": [
    "plotSpecialTool(x_test_noisy,[],samples2Visualize=10,factors=[1,10], figsize=(12,3), grayFlag=False, thr=0.0, reshaper=(28,28), indexes=allIdx)\n",
    "plt.show()"
   ]
  },
  {
   "cell_type": "code",
   "execution_count": 59,
   "metadata": {
    "slideshow": {
     "slide_type": "subslide"
    }
   },
   "outputs": [],
   "source": [
    "input_img = Input(shape=(28, 28, 1))  # adapt this if using `channels_first` image data format"
   ]
  },
  {
   "cell_type": "code",
   "execution_count": 60,
   "metadata": {
    "slideshow": {
     "slide_type": "fragment"
    }
   },
   "outputs": [],
   "source": [
    "x = Conv2D(32, (3, 3), activation='relu', padding='same')(input_img)"
   ]
  },
  {
   "cell_type": "code",
   "execution_count": 61,
   "metadata": {
    "slideshow": {
     "slide_type": "fragment"
    }
   },
   "outputs": [],
   "source": [
    "x = MaxPooling2D((2, 2), padding='same')(x)"
   ]
  },
  {
   "cell_type": "code",
   "execution_count": 62,
   "metadata": {
    "slideshow": {
     "slide_type": "subslide"
    }
   },
   "outputs": [],
   "source": [
    "x = Conv2D(32, (3, 3), activation='relu', padding='same')(x)\n",
    "encoded = MaxPooling2D((2, 2), padding='same')(x)"
   ]
  },
  {
   "cell_type": "code",
   "execution_count": 63,
   "metadata": {
    "slideshow": {
     "slide_type": "fragment"
    }
   },
   "outputs": [],
   "source": [
    "# at this point the representation is (7, 7, 32)\n",
    "x = Conv2D(32, (3, 3), activation='relu', padding='same')(encoded)\n",
    "x = UpSampling2D((2, 2))(x)"
   ]
  },
  {
   "cell_type": "code",
   "execution_count": 64,
   "metadata": {
    "slideshow": {
     "slide_type": "fragment"
    }
   },
   "outputs": [],
   "source": [
    "x = Conv2D(32, (3, 3), activation='relu', padding='same')(x)\n",
    "x = UpSampling2D((2, 2))(x)\n",
    "decoded = Conv2D(1, (3, 3), activation='sigmoid', padding='same')(x)"
   ]
  },
  {
   "cell_type": "code",
   "execution_count": 65,
   "metadata": {
    "slideshow": {
     "slide_type": "subslide"
    }
   },
   "outputs": [],
   "source": [
    "autoencoder = Model(input_img, decoded)\n",
    "autoencoder.compile(optimizer='adadelta', loss='binary_crossentropy')"
   ]
  },
  {
   "cell_type": "code",
   "execution_count": 66,
   "metadata": {
    "slideshow": {
     "slide_type": "subslide"
    }
   },
   "outputs": [
    {
     "name": "stdout",
     "output_type": "stream",
     "text": [
      "Epoch 1/5\n",
      "469/469 [==============================] - 69s 145ms/step - loss: 0.6449 - val_loss: 0.6307\n",
      "Epoch 2/5\n",
      "469/469 [==============================] - 69s 148ms/step - loss: 0.6067 - val_loss: 0.5797\n",
      "Epoch 3/5\n",
      "469/469 [==============================] - 73s 155ms/step - loss: 0.5482 - val_loss: 0.5257\n",
      "Epoch 4/5\n",
      "469/469 [==============================] - 75s 160ms/step - loss: 0.5118 - val_loss: 0.5081\n",
      "Epoch 5/5\n",
      "469/469 [==============================] - 84s 178ms/step - loss: 0.5008 - val_loss: 0.5008\n"
     ]
    },
    {
     "data": {
      "text/plain": [
       "<keras.callbacks.History at 0x1aee217cfd0>"
      ]
     },
     "execution_count": 66,
     "metadata": {},
     "output_type": "execute_result"
    }
   ],
   "source": [
    "autoencoder.fit(x_train_noisy, x_train,\n",
    "                epochs=5,\n",
    "                batch_size=128,\n",
    "                shuffle=True,\n",
    "                validation_data=(x_test_noisy, x_test),\n",
    "                callbacks=[TensorBoard(log_dir='/tmp/tb', histogram_freq=0, write_graph=False)])"
   ]
  },
  {
   "cell_type": "code",
   "execution_count": 67,
   "metadata": {
    "slideshow": {
     "slide_type": "subslide"
    }
   },
   "outputs": [],
   "source": [
    "# ignore training for now, just load the model\n",
    "from keras.models import load_model\n",
    "autoencoder = load_model('denoiseAE.h5')"
   ]
  },
  {
   "cell_type": "code",
   "execution_count": 68,
   "metadata": {
    "slideshow": {
     "slide_type": "subslide"
    }
   },
   "outputs": [],
   "source": [
    "# save models and weights\n",
    "autoencoder.save('denoiseAE.h5')"
   ]
  },
  {
   "cell_type": "code",
   "execution_count": 69,
   "metadata": {
    "slideshow": {
     "slide_type": "subslide"
    }
   },
   "outputs": [
    {
     "data": {
      "image/png": "[encoded data removed]",
      "text/plain": [
       "<Figure size 864x216 with 10 Axes>"
      ]
     },
     "metadata": {
      "needs_background": "light"
     },
     "output_type": "display_data"
    },
    {
     "data": {
      "image/png": "[encoded data removed]",
      "text/plain": [
       "<Figure size 864x216 with 10 Axes>"
      ]
     },
     "metadata": {
      "needs_background": "light"
     },
     "output_type": "display_data"
    }
   ],
   "source": [
    "decodedImgs = autoencoder.predict(x_test_noisy)\n",
    "allIdx = range(10)\n",
    "plotSpecialTool(x_test_noisy,[],samples2Visualize=10,factors=[1,10], figsize=(12,3), grayFlag=False, thr=0.0, reshaper=(28,28), indexes=allIdx)\n",
    "plotSpecialTool(decodedImgs,[],samples2Visualize=10,factors=[1,10], figsize=(12,3), grayFlag=False, thr=0.0, reshaper=(28,28), indexes=allIdx)\n",
    "plt.show()"
   ]
  }
 ],
 "metadata": {
  "anaconda-cloud": {},
  "celltoolbar": "Slideshow",
  "kernelspec": {
   "display_name": "Python 3",
   "language": "python",
   "name": "python3"
  },
  "language_info": {
   "codemirror_mode": {
    "name": "ipython",
    "version": 3
   },
   "file_extension": ".py",
   "mimetype": "text/x-python",
   "name": "python",
   "nbconvert_exporter": "python",
   "pygments_lexer": "ipython3",
   "version": "3.8.8"
  },
  "nbpresent": {
   "slides": {
    "113a8352-580e-4a0d-b34d-0b7c12e8e7e5": {
     "id": "113a8352-580e-4a0d-b34d-0b7c12e8e7e5",
     "prev": "ba98ddae-2c9b-4421-b232-baa80009c109",
     "regions": {
      "6e23bd89-1324-4fff-9df7-5bbd8c25159f": {
       "attrs": {
        "height": 0.8,
        "width": 0.45,
        "x": 0.5,
        "y": 0.1
       },
       "content": {
        "cell": "7b17b65a-de1e-4e3b-ac9c-0107b20ebbd6",
        "part": "whole"
       },
       "id": "6e23bd89-1324-4fff-9df7-5bbd8c25159f"
      },
      "a27398b3-e720-442f-82ff-057272dfc022": {
       "attrs": {
        "height": 0.8,
        "width": 0.45,
        "x": 0.05,
        "y": 0.1
       },
       "content": {
        "cell": "498fd9f9-3661-40da-ad6a-24b728617ae8",
        "part": "whole"
       },
       "id": "a27398b3-e720-442f-82ff-057272dfc022"
      }
     }
    },
    "162cdbda-85e4-4508-bbff-6fdaac754851": {
     "id": "162cdbda-85e4-4508-bbff-6fdaac754851",
     "prev": "35b5ea8c-14b7-401a-8724-62f7ffb0599f",
     "regions": {
      "06421807-c26e-42bb-851d-12d0857a9970": {
       "attrs": {
        "height": 0.2,
        "width": 0.4,
        "x": 0.5,
        "y": 0.7
       },
       "id": "06421807-c26e-42bb-851d-12d0857a9970"
      },
      "236af788-ea96-43eb-88c9-f4307f42d78d": {
       "attrs": {
        "height": 0.2,
        "width": 0.4,
        "x": 0.1,
        "y": 0.7
       },
       "content": {
        "cell": "970f6553-f8f0-4ac9-9d93-babaf8309d88",
        "part": "whole"
       },
       "id": "236af788-ea96-43eb-88c9-f4307f42d78d"
      },
      "8d464a40-5403-427d-a1ce-c733db96bdc7": {
       "attrs": {
        "height": 0.6,
        "width": 0.8,
        "x": 0.1,
        "y": 0.1
       },
       "content": {
        "cell": "0e0afbf2-ee29-4a9a-9daf-1baa32abc47d",
        "part": "whole"
       },
       "id": "8d464a40-5403-427d-a1ce-c733db96bdc7"
      }
     }
    },
    "346c96ac-8399-4dfd-9100-1b2b681f7526": {
     "id": "346c96ac-8399-4dfd-9100-1b2b681f7526",
     "prev": "4462880f-3356-47a1-b030-d78c2bc9ca42",
     "regions": {
      "0580fc87-b0a6-4eda-a8f5-ec8a9f96266d": {
       "attrs": {
        "height": 1,
        "width": 1,
        "x": 0,
        "y": 0
       },
       "content": {
        "cell": "66256af6-50c1-4bca-8bde-0c2afcff2ff8",
        "part": "whole"
       },
       "id": "0580fc87-b0a6-4eda-a8f5-ec8a9f96266d"
      }
     }
    },
    "35b5ea8c-14b7-401a-8724-62f7ffb0599f": {
     "id": "35b5ea8c-14b7-401a-8724-62f7ffb0599f",
     "prev": "736e64e3-a58c-4f95-9119-19f412f80e0f",
     "regions": {
      "57809633-4fce-404a-a4be-468f787227cf": {
       "attrs": {
        "height": 1,
        "width": 1,
        "x": 0,
        "y": 0
       },
       "content": {
        "cell": "eff07840-458f-4be7-99d5-d2f0517ec876",
        "part": "whole"
       },
       "id": "57809633-4fce-404a-a4be-468f787227cf"
      }
     }
    },
    "3fb8a338-2683-44e9-9f69-4e56363d0160": {
     "id": "3fb8a338-2683-44e9-9f69-4e56363d0160",
     "prev": "113a8352-580e-4a0d-b34d-0b7c12e8e7e5",
     "regions": {
      "8419922c-09b7-45ba-9486-f300ec29d54d": {
       "attrs": {
        "height": 1,
        "width": 1,
        "x": 0,
        "y": 0
       },
       "content": {
        "cell": "dc3bbf7d-f48a-461f-97a9-1027351a4993",
        "part": "whole"
       },
       "id": "8419922c-09b7-45ba-9486-f300ec29d54d"
      }
     }
    },
    "436f3d92-07c7-445a-bbe4-9b959c74d385": {
     "id": "436f3d92-07c7-445a-bbe4-9b959c74d385",
     "prev": "346c96ac-8399-4dfd-9100-1b2b681f7526",
     "regions": {
      "80f52c4e-f43b-4617-951b-63cf52e4c6fd": {
       "attrs": {
        "height": 1,
        "width": 1,
        "x": 0,
        "y": 0
       },
       "content": {
        "cell": "e1abfc20-184d-4b89-8cd2-405d037b3252",
        "part": "whole"
       },
       "id": "80f52c4e-f43b-4617-951b-63cf52e4c6fd"
      }
     }
    },
    "4462880f-3356-47a1-b030-d78c2bc9ca42": {
     "id": "4462880f-3356-47a1-b030-d78c2bc9ca42",
     "prev": null,
     "regions": {
      "0b9f0747-e037-43e7-bf51-9c60cf713ddd": {
       "attrs": {
        "height": 0.6,
        "width": 0.8,
        "x": 0.1,
        "y": 0.10000000000000002
       },
       "content": {
        "cell": "259c7cf4-940f-4534-97c5-3cd7aa7e1a5f",
        "part": "whole"
       },
       "id": "0b9f0747-e037-43e7-bf51-9c60cf713ddd"
      },
      "63e2466f-a9b3-4b5a-94bf-445d8dd2b9ab": {
       "attrs": {
        "height": 0.20000000000000004,
        "width": 0.4,
        "x": 0.5,
        "y": 0.6999999999999998
       },
       "content": {
        "cell": "dc845977-c189-43d6-b9c8-6ea04c03501e",
        "part": "whole"
       },
       "id": "63e2466f-a9b3-4b5a-94bf-445d8dd2b9ab"
      },
      "8acf0861-b2c2-47a8-9150-5d97e2caaee8": {
       "attrs": {
        "height": 0.2,
        "width": 0.4,
        "x": 0.1,
        "y": 0.7
       },
       "id": "8acf0861-b2c2-47a8-9150-5d97e2caaee8"
      }
     }
    },
    "736e64e3-a58c-4f95-9119-19f412f80e0f": {
     "id": "736e64e3-a58c-4f95-9119-19f412f80e0f",
     "prev": "3fb8a338-2683-44e9-9f69-4e56363d0160",
     "regions": {
      "6022d369-a060-4fc8-bff2-eff7d940d95b": {
       "attrs": {
        "height": 0.8,
        "width": 0.45,
        "x": 0.5,
        "y": 0.1
       },
       "content": {
        "cell": "f48e8ce8-ac61-4ba4-9514-ea6ec8ef1902",
        "part": "whole"
       },
       "id": "6022d369-a060-4fc8-bff2-eff7d940d95b"
      },
      "d1c573bf-8fd0-4dce-9639-0ab9e05abbf5": {
       "attrs": {
        "height": 0.8,
        "width": 0.45,
        "x": 0.05,
        "y": 0.1
       },
       "content": {
        "cell": "498fd9f9-3661-40da-ad6a-24b728617ae8",
        "part": "whole"
       },
       "id": "d1c573bf-8fd0-4dce-9639-0ab9e05abbf5"
      }
     }
    },
    "a3d7ebc3-2ef7-464e-99e2-29b63f4ba309": {
     "id": "a3d7ebc3-2ef7-464e-99e2-29b63f4ba309",
     "prev": "162cdbda-85e4-4508-bbff-6fdaac754851",
     "regions": {
      "adb81c8b-3784-480c-945c-845406af3115": {
       "attrs": {
        "height": 1,
        "width": 1,
        "x": 0,
        "y": 0
       },
       "content": {
        "cell": "4cf853ad-7774-4299-bf18-874e082c795f",
        "part": "whole"
       },
       "id": "adb81c8b-3784-480c-945c-845406af3115"
      }
     }
    },
    "ba98ddae-2c9b-4421-b232-baa80009c109": {
     "id": "ba98ddae-2c9b-4421-b232-baa80009c109",
     "prev": "436f3d92-07c7-445a-bbe4-9b959c74d385",
     "regions": {
      "4baceccd-2f27-4a96-8d3a-777626532b98": {
       "attrs": {
        "height": 0.8,
        "width": 0.8,
        "x": 0.1,
        "y": 0.1
       },
       "content": {
        "cell": "7dff8ae0-2573-447a-a7ae-d2740c87c332",
        "part": "whole"
       },
       "id": "4baceccd-2f27-4a96-8d3a-777626532b98"
      }
     }
    }
   },
   "themes": {
    "default": "36fe9b9a-0d55-4c25-b183-2cd2ad2d1e39",
    "theme": {
     "163e68e1-05ec-4bb1-8393-b8256811b945": {
      "backgrounds": {
       "backgroundColor": {
        "background-color": "backgroundColor",
        "id": "backgroundColor"
       }
      },
      "id": "163e68e1-05ec-4bb1-8393-b8256811b945",
      "palette": {
       "backgroundColor": {
        "id": "backgroundColor",
        "rgb": [
         253,
         246,
         227
        ]
       },
       "headingColor": {
        "id": "headingColor",
        "rgb": [
         88,
         110,
         117
        ]
       },
       "linkColor": {
        "id": "linkColor",
        "rgb": [
         38,
         139,
         210
        ]
       },
       "mainColor": {
        "id": "mainColor",
        "rgb": [
         101,
         123,
         131
        ]
       }
      },
      "rules": {
       "a": {
        "color": "linkColor"
       },
       "h1": {
        "color": "headingColor",
        "font-family": "Oswald",
        "font-size": 7
       },
       "h2": {
        "color": "headingColor",
        "font-family": "Oswald",
        "font-size": 5
       },
       "h3": {
        "color": "headingColor",
        "font-family": "Oswald",
        "font-size": 3.75
       },
       "h4": {
        "color": "headingColor",
        "font-family": "Oswald",
        "font-size": 3
       },
       "h5": {
        "color": "headingColor",
        "font-family": "Oswald"
       },
       "h6": {
        "color": "headingColor",
        "font-family": "Oswald"
       },
       "h7": {
        "color": "headingColor",
        "font-family": "Oswald"
       },
       "li": {
        "color": "mainColor",
        "font-family": "Lato",
        "font-size": 5
       },
       "p": {
        "color": "mainColor",
        "font-family": "Lato",
        "font-size": 5
       }
      },
      "text-base": {
       "color": "mainColor",
       "font-family": "Lato",
       "font-size": 5
      }
     },
     "2c785129-8c72-44c6-aa83-16f1bd77b8a8": {
      "backgrounds": {
       "backgroundColor": {
        "background-color": "backgroundColor",
        "id": "backgroundColor"
       }
      },
      "id": "2c785129-8c72-44c6-aa83-16f1bd77b8a8",
      "palette": {
       "backgroundColor": {
        "id": "backgroundColor",
        "rgb": [
         240,
         241,
         235
        ]
       },
       "headingColor": {
        "id": "headingColor",
        "rgb": [
         56,
         61,
         61
        ]
       },
       "linkColor": {
        "id": "linkColor",
        "rgb": [
         81,
         72,
         61
        ]
       },
       "mainColor": {
        "id": "mainColor",
        "rgb": [
         0,
         0,
         0
        ]
       }
      },
      "rules": {
       "a": {
        "color": "linkColor"
       },
       "h1": {
        "color": "headingColor",
        "font-family": "EB Garamond",
        "font-size": 7
       },
       "h2": {
        "color": "headingColor",
        "font-family": "EB Garamond",
        "font-size": 5
       },
       "h3": {
        "color": "headingColor",
        "font-family": "EB Garamond",
        "font-size": 3.75
       },
       "h4": {
        "color": "headingColor",
        "font-family": "EB Garamond",
        "font-size": 3
       },
       "h5": {
        "color": "headingColor",
        "font-family": "EB Garamond"
       },
       "h6": {
        "color": "headingColor",
        "font-family": "EB Garamond"
       },
       "h7": {
        "color": "headingColor",
        "font-family": "EB Garamond"
       },
       "li": {
        "color": "mainColor",
        "font-family": "EB Garamond",
        "font-size": 5
       },
       "p": {
        "color": "mainColor",
        "font-family": "EB Garamond",
        "font-size": 5
       }
      },
      "text-base": {
       "color": "mainColor",
       "font-family": "EB Garamond",
       "font-size": 5
      }
     },
     "36fe9b9a-0d55-4c25-b183-2cd2ad2d1e39": {
      "id": "36fe9b9a-0d55-4c25-b183-2cd2ad2d1e39",
      "palette": {
       "19cc588f-0593-49c9-9f4b-e4d7cc113b1c": {
        "id": "19cc588f-0593-49c9-9f4b-e4d7cc113b1c",
        "rgb": [
         252,
         252,
         252
        ]
       },
       "31af15d2-7e15-44c5-ab5e-e04b16a89eff": {
        "id": "31af15d2-7e15-44c5-ab5e-e04b16a89eff",
        "rgb": [
         68,
         68,
         68
        ]
       },
       "50f92c45-a630-455b-aec3-788680ec7410": {
        "id": "50f92c45-a630-455b-aec3-788680ec7410",
        "rgb": [
         155,
         177,
         192
        ]
       },
       "c5cc3653-2ee1-402a-aba2-7caae1da4f6c": {
        "id": "c5cc3653-2ee1-402a-aba2-7caae1da4f6c",
        "rgb": [
         43,
         126,
         184
        ]
       },
       "efa7f048-9acb-414c-8b04-a26811511a21": {
        "id": "efa7f048-9acb-414c-8b04-a26811511a21",
        "rgb": [
         25.118061674008803,
         73.60176211453744,
         107.4819383259912
        ]
       }
      },
      "rules": {
       "blockquote": {
        "color": "50f92c45-a630-455b-aec3-788680ec7410"
       },
       "code": {
        "font-family": "Anonymous Pro"
       },
       "h1": {
        "color": "c5cc3653-2ee1-402a-aba2-7caae1da4f6c",
        "font-family": "Lato",
        "font-size": 8
       },
       "h2": {
        "color": "c5cc3653-2ee1-402a-aba2-7caae1da4f6c",
        "font-family": "Lato",
        "font-size": 6
       },
       "h3": {
        "color": "50f92c45-a630-455b-aec3-788680ec7410",
        "font-family": "Lato",
        "font-size": 5.5
       },
       "h4": {
        "color": "c5cc3653-2ee1-402a-aba2-7caae1da4f6c",
        "font-family": "Lato",
        "font-size": 5
       },
       "h5": {
        "font-family": "Lato"
       },
       "h6": {
        "font-family": "Lato"
       },
       "h7": {
        "font-family": "Lato"
       },
       "pre": {
        "font-family": "Anonymous Pro",
        "font-size": 4
       }
      },
      "text-base": {
       "font-family": "Merriweather",
       "font-size": 4
      }
     },
     "44d5351c-dbcc-457b-a2bd-7918d82c8431": {
      "backgrounds": {
       "backgroundColor": {
        "background-color": "backgroundColor",
        "id": "backgroundColor"
       }
      },
      "id": "44d5351c-dbcc-457b-a2bd-7918d82c8431",
      "palette": {
       "backgroundColor": {
        "id": "backgroundColor",
        "rgb": [
         247,
         243,
         222
        ]
       },
       "headingColor": {
        "id": "headingColor",
        "rgb": [
         51,
         51,
         51
        ]
       },
       "linkColor": {
        "id": "linkColor",
        "rgb": [
         139,
         116,
         61
        ]
       },
       "mainColor": {
        "id": "mainColor",
        "rgb": [
         51,
         51,
         51
        ]
       }
      },
      "rules": {
       "a": {
        "color": "linkColor"
       },
       "h1": {
        "color": "headingColor",
        "font-family": "Oswald",
        "font-size": 7
       },
       "h2": {
        "color": "headingColor",
        "font-family": "Oswald",
        "font-size": 5
       },
       "h3": {
        "color": "headingColor",
        "font-family": "Oswald",
        "font-size": 3.75
       },
       "h4": {
        "color": "headingColor",
        "font-family": "Oswald",
        "font-size": 3
       },
       "h5": {
        "color": "headingColor",
        "font-family": "Oswald"
       },
       "h6": {
        "color": "headingColor",
        "font-family": "Oswald"
       },
       "h7": {
        "color": "headingColor",
        "font-family": "Oswald"
       },
       "li": {
        "color": "mainColor",
        "font-family": "Lato",
        "font-size": 5
       },
       "p": {
        "color": "mainColor",
        "font-family": "Lato",
        "font-size": 5
       }
      },
      "text-base": {
       "color": "mainColor",
       "font-family": "Lato",
       "font-size": 5
      }
     },
     "5d5ecdc8-8041-44f1-936c-4202542e68f4": {
      "backgrounds": {
       "backgroundColor": {
        "background-color": "backgroundColor",
        "id": "backgroundColor"
       }
      },
      "id": "5d5ecdc8-8041-44f1-936c-4202542e68f4",
      "palette": {
       "backgroundColor": {
        "id": "backgroundColor",
        "rgb": [
         256,
         256,
         256
        ]
       },
       "headingColor": {
        "id": "headingColor",
        "rgb": [
         34,
         34,
         34
        ]
       },
       "linkColor": {
        "id": "linkColor",
        "rgb": [
         42,
         118,
         221
        ]
       },
       "mainColor": {
        "id": "mainColor",
        "rgb": [
         34,
         34,
         34
        ]
       }
      },
      "rules": {
       "a": {
        "color": "linkColor"
       },
       "h1": {
        "color": "headingColor",
        "font-family": "Source Sans Pro",
        "font-size": 5.25
       },
       "h2": {
        "color": "headingColor",
        "font-family": "Source Sans Pro",
        "font-size": 4
       },
       "h3": {
        "color": "headingColor",
        "font-family": "Source Sans Pro",
        "font-size": 3.5
       },
       "h4": {
        "color": "headingColor",
        "font-family": "Source Sans Pro",
        "font-size": 3
       },
       "h5": {
        "color": "headingColor",
        "font-family": "Source Sans Pro"
       },
       "h6": {
        "color": "headingColor",
        "font-family": "Source Sans Pro"
       },
       "h7": {
        "color": "headingColor",
        "font-family": "Source Sans Pro"
       },
       "li": {
        "color": "mainColor",
        "font-family": "Source Sans Pro",
        "font-size": 6
       },
       "p": {
        "color": "mainColor",
        "font-family": "Source Sans Pro",
        "font-size": 6
       }
      },
      "text-base": {
       "color": "mainColor",
       "font-family": "Source Sans Pro",
       "font-size": 6
      }
     },
     "890fe3d9-f926-48fc-8a8a-16f15da4e5b6": {
      "backgrounds": {
       "backgroundColor": {
        "background-color": "backgroundColor",
        "id": "backgroundColor"
       }
      },
      "id": "890fe3d9-f926-48fc-8a8a-16f15da4e5b6",
      "palette": {
       "backgroundColor": {
        "id": "backgroundColor",
        "rgb": [
         17,
         17,
         17
        ]
       },
       "headingColor": {
        "id": "headingColor",
        "rgb": [
         238,
         238,
         238
        ]
       },
       "linkColor": {
        "id": "linkColor",
        "rgb": [
         231,
         173,
         82
        ]
       },
       "mainColor": {
        "id": "mainColor",
        "rgb": [
         238,
         238,
         238
        ]
       }
      },
      "rules": {
       "a": {
        "color": "linkColor"
       },
       "h1": {
        "color": "headingColor",
        "font-family": "Montserrat",
        "font-size": 7
       },
       "h2": {
        "color": "headingColor",
        "font-family": "Montserrat",
        "font-size": 5
       },
       "h3": {
        "color": "headingColor",
        "font-family": "Montserrat",
        "font-size": 3.75
       },
       "h4": {
        "color": "headingColor",
        "font-family": "Montserrat",
        "font-size": 3
       },
       "h5": {
        "color": "headingColor",
        "font-family": "Montserrat"
       },
       "h6": {
        "color": "headingColor",
        "font-family": "Montserrat"
       },
       "h7": {
        "color": "headingColor",
        "font-family": "Montserrat"
       },
       "li": {
        "color": "mainColor",
        "font-family": "Open Sans",
        "font-size": 4
       },
       "p": {
        "color": "mainColor",
        "font-family": "Open Sans",
        "font-size": 4
       }
      },
      "text-base": {
       "color": "mainColor",
       "font-family": "Open Sans",
       "font-size": 4
      }
     },
     "89522eee-a8f8-4ec9-b460-7fb4e04bddbe": {
      "backgrounds": {
       "backgroundColor": {
        "background-color": "backgroundColor",
        "id": "backgroundColor"
       }
      },
      "id": "89522eee-a8f8-4ec9-b460-7fb4e04bddbe",
      "palette": {
       "backgroundColor": {
        "id": "backgroundColor",
        "rgb": [
         256,
         256,
         256
        ]
       },
       "headingColor": {
        "id": "headingColor",
        "rgb": [
         0,
         0,
         0
        ]
       },
       "linkColor": {
        "id": "linkColor",
        "rgb": [
         0,
         0,
         139
        ]
       },
       "mainColor": {
        "id": "mainColor",
        "rgb": [
         0,
         0,
         0
        ]
       }
      },
      "rules": {
       "a": {
        "color": "linkColor"
       },
       "h1": {
        "color": "headingColor",
        "font-family": "News Cycle",
        "font-size": 7
       },
       "h2": {
        "color": "headingColor",
        "font-family": "News Cycle",
        "font-size": 5
       },
       "h3": {
        "color": "headingColor",
        "font-family": "News Cycle",
        "font-size": 3.75
       },
       "h4": {
        "color": "headingColor",
        "font-family": "News Cycle",
        "font-size": 3
       },
       "h5": {
        "color": "headingColor",
        "font-family": "News Cycle"
       },
       "h6": {
        "color": "headingColor",
        "font-family": "News Cycle"
       },
       "h7": {
        "color": "headingColor",
        "font-family": "News Cycle"
       },
       "li": {
        "color": "mainColor",
        "font-family": "Lato",
        "font-size": 5
       },
       "p": {
        "color": "mainColor",
        "font-family": "Lato",
        "font-size": 5
       }
      },
      "text-base": {
       "color": "mainColor",
       "font-family": "Lato",
       "font-size": 5
      }
     },
     "9c28c224-76e6-4658-9318-33b4ce7d47bf": {
      "backgrounds": {
       "backgroundColor": {
        "background-color": "backgroundColor",
        "id": "backgroundColor"
       }
      },
      "id": "9c28c224-76e6-4658-9318-33b4ce7d47bf",
      "palette": {
       "backgroundColor": {
        "id": "backgroundColor",
        "rgb": [
         34,
         34,
         34
        ]
       },
       "headingColor": {
        "id": "headingColor",
        "rgb": [
         238,
         238,
         238
        ]
       },
       "linkColor": {
        "id": "linkColor",
        "rgb": [
         170,
         34,
         51
        ]
       },
       "mainColor": {
        "id": "mainColor",
        "rgb": [
         238,
         238,
         238
        ]
       }
      },
      "rules": {
       "a": {
        "color": "linkColor"
       },
       "h1": {
        "color": "headingColor",
        "font-family": "Ubuntu",
        "font-size": 7
       },
       "h2": {
        "color": "headingColor",
        "font-family": "Ubuntu",
        "font-size": 5
       },
       "h3": {
        "color": "headingColor",
        "font-family": "Ubuntu",
        "font-size": 3.75
       },
       "h4": {
        "color": "headingColor",
        "font-family": "Ubuntu",
        "font-size": 3
       },
       "h5": {
        "color": "headingColor",
        "font-family": "Ubuntu"
       },
       "h6": {
        "color": "headingColor",
        "font-family": "Ubuntu"
       },
       "h7": {
        "color": "headingColor",
        "font-family": "Ubuntu"
       },
       "li": {
        "color": "mainColor",
        "font-family": "Ubuntu",
        "font-size": 5
       },
       "p": {
        "color": "mainColor",
        "font-family": "Ubuntu",
        "font-size": 5
       }
      },
      "text-base": {
       "color": "mainColor",
       "font-family": "Ubuntu",
       "font-size": 5
      }
     },
     "db15f592-95c4-437d-b51b-fc21c48ea367": {
      "backgrounds": {
       "backgroundColor": {
        "background-color": "backgroundColor",
        "id": "backgroundColor"
       }
      },
      "id": "db15f592-95c4-437d-b51b-fc21c48ea367",
      "palette": {
       "backgroundColor": {
        "id": "backgroundColor",
        "rgb": [
         43,
         43,
         43
        ]
       },
       "headingColor": {
        "id": "headingColor",
        "rgb": [
         238,
         238,
         238
        ]
       },
       "linkColor": {
        "id": "linkColor",
        "rgb": [
         19,
         218,
         236
        ]
       },
       "mainColor": {
        "id": "mainColor",
        "rgb": [
         238,
         238,
         238
        ]
       }
      },
      "rules": {
       "a": {
        "color": "linkColor"
       },
       "h1": {
        "color": "headingColor",
        "font-family": "Oswald",
        "font-size": 7
       },
       "h2": {
        "color": "headingColor",
        "font-family": "Oswald",
        "font-size": 5
       },
       "h3": {
        "color": "headingColor",
        "font-family": "Oswald",
        "font-size": 3.75
       },
       "h4": {
        "color": "headingColor",
        "font-family": "Oswald",
        "font-size": 3
       },
       "h5": {
        "color": "headingColor",
        "font-family": "Oswald"
       },
       "h6": {
        "color": "headingColor",
        "font-family": "Oswald"
       },
       "h7": {
        "color": "headingColor",
        "font-family": "Oswald"
       },
       "li": {
        "color": "mainColor",
        "font-family": "Lato",
        "font-size": 5
       },
       "p": {
        "color": "mainColor",
        "font-family": "Lato",
        "font-size": 5
       }
      },
      "text-base": {
       "color": "mainColor",
       "font-family": "Lato",
       "font-size": 5
      }
     },
     "eaaf3718-e393-4962-9923-0fb990ba354b": {
      "backgrounds": {
       "backgroundColor": {
        "background-color": "backgroundColor",
        "id": "backgroundColor"
       }
      },
      "id": "eaaf3718-e393-4962-9923-0fb990ba354b",
      "palette": {
       "backgroundColor": {
        "id": "backgroundColor",
        "rgb": [
         34,
         34,
         34
        ]
       },
       "headingColor": {
        "id": "headingColor",
        "rgb": [
         256,
         256,
         256
        ]
       },
       "linkColor": {
        "id": "linkColor",
        "rgb": [
         66,
         175,
         250
        ]
       },
       "mainColor": {
        "id": "mainColor",
        "rgb": [
         256,
         256,
         256
        ]
       }
      },
      "rules": {
       "a": {
        "color": "linkColor"
       },
       "h1": {
        "color": "headingColor",
        "font-family": "Source Sans Pro",
        "font-size": 5.25
       },
       "h2": {
        "color": "headingColor",
        "font-family": "Source Sans Pro",
        "font-size": 4
       },
       "h3": {
        "color": "headingColor",
        "font-family": "Source Sans Pro",
        "font-size": 3.5
       },
       "h4": {
        "color": "headingColor",
        "font-family": "Source Sans Pro",
        "font-size": 3
       },
       "h5": {
        "color": "headingColor",
        "font-family": "Source Sans Pro"
       },
       "h6": {
        "color": "headingColor",
        "font-family": "Source Sans Pro"
       },
       "h7": {
        "color": "headingColor",
        "font-family": "Source Sans Pro"
       },
       "li": {
        "color": "mainColor",
        "font-family": "Source Sans Pro",
        "font-size": 6
       },
       "p": {
        "color": "mainColor",
        "font-family": "Source Sans Pro",
        "font-size": 6
       }
      },
      "text-base": {
       "color": "mainColor",
       "font-family": "Source Sans Pro",
       "font-size": 6
      }
     },
     "ed6e54fc-c6ea-493f-93a2-21cc6bb7a7b8": {
      "backgrounds": {
       "dc7afa04-bf90-40b1-82a5-726e3cff5267": {
        "background-color": "31af15d2-7e15-44c5-ab5e-e04b16a89eff",
        "id": "dc7afa04-bf90-40b1-82a5-726e3cff5267"
       }
      },
      "id": "ed6e54fc-c6ea-493f-93a2-21cc6bb7a7b8",
      "palette": {
       "19cc588f-0593-49c9-9f4b-e4d7cc113b1c": {
        "id": "19cc588f-0593-49c9-9f4b-e4d7cc113b1c",
        "rgb": [
         252,
         252,
         252
        ]
       },
       "31af15d2-7e15-44c5-ab5e-e04b16a89eff": {
        "id": "31af15d2-7e15-44c5-ab5e-e04b16a89eff",
        "rgb": [
         68,
         68,
         68
        ]
       },
       "50f92c45-a630-455b-aec3-788680ec7410": {
        "id": "50f92c45-a630-455b-aec3-788680ec7410",
        "rgb": [
         197,
         226,
         245
        ]
       },
       "c5cc3653-2ee1-402a-aba2-7caae1da4f6c": {
        "id": "c5cc3653-2ee1-402a-aba2-7caae1da4f6c",
        "rgb": [
         43,
         126,
         184
        ]
       },
       "efa7f048-9acb-414c-8b04-a26811511a21": {
        "id": "efa7f048-9acb-414c-8b04-a26811511a21",
        "rgb": [
         25.118061674008803,
         73.60176211453744,
         107.4819383259912
        ]
       }
      },
      "rules": {
       "a": {
        "color": "19cc588f-0593-49c9-9f4b-e4d7cc113b1c"
       },
       "blockquote": {
        "color": "50f92c45-a630-455b-aec3-788680ec7410",
        "font-size": 3
       },
       "code": {
        "font-family": "Anonymous Pro"
       },
       "h1": {
        "color": "19cc588f-0593-49c9-9f4b-e4d7cc113b1c",
        "font-family": "Merriweather",
        "font-size": 8
       },
       "h2": {
        "color": "19cc588f-0593-49c9-9f4b-e4d7cc113b1c",
        "font-family": "Merriweather",
        "font-size": 6
       },
       "h3": {
        "color": "50f92c45-a630-455b-aec3-788680ec7410",
        "font-family": "Lato",
        "font-size": 5.5
       },
       "h4": {
        "color": "c5cc3653-2ee1-402a-aba2-7caae1da4f6c",
        "font-family": "Lato",
        "font-size": 5
       },
       "h5": {
        "font-family": "Lato"
       },
       "h6": {
        "font-family": "Lato"
       },
       "h7": {
        "font-family": "Lato"
       },
       "li": {
        "color": "50f92c45-a630-455b-aec3-788680ec7410",
        "font-size": 3.25
       },
       "pre": {
        "font-family": "Anonymous Pro",
        "font-size": 4
       }
      },
      "text-base": {
       "color": "19cc588f-0593-49c9-9f4b-e4d7cc113b1c",
       "font-family": "Lato",
       "font-size": 4
      }
     },
     "fa8147ba-8650-4a44-9524-c8faa36e9624": {
      "backgrounds": {
       "backgroundColor": {
        "background-color": "backgroundColor",
        "id": "backgroundColor"
       }
      },
      "id": "fa8147ba-8650-4a44-9524-c8faa36e9624",
      "palette": {
       "backgroundColor": {
        "id": "backgroundColor",
        "rgb": [
         247,
         251,
         252
        ]
       },
       "headingColor": {
        "id": "headingColor",
        "rgb": [
         51,
         51,
         51
        ]
       },
       "linkColor": {
        "id": "linkColor",
        "rgb": [
         59,
         117,
         158
        ]
       },
       "mainColor": {
        "id": "mainColor",
        "rgb": [
         51,
         51,
         51
        ]
       }
      },
      "rules": {
       "a": {
        "color": "linkColor"
       },
       "h1": {
        "color": "headingColor",
        "font-family": "Quicksand",
        "font-size": 7
       },
       "h2": {
        "color": "headingColor",
        "font-family": "Quicksand",
        "font-size": 5
       },
       "h3": {
        "color": "headingColor",
        "font-family": "Quicksand",
        "font-size": 3.75
       },
       "h4": {
        "color": "headingColor",
        "font-family": "Quicksand",
        "font-size": 3
       },
       "h5": {
        "color": "headingColor",
        "font-family": "Quicksand"
       },
       "h6": {
        "color": "headingColor",
        "font-family": "Quicksand"
       },
       "h7": {
        "color": "headingColor",
        "font-family": "Quicksand"
       },
       "li": {
        "color": "mainColor",
        "font-family": "Open Sans",
        "font-size": 5
       },
       "p": {
        "color": "mainColor",
        "font-family": "Open Sans",
        "font-size": 5
       }
      },
      "text-base": {
       "color": "mainColor",
       "font-family": "Open Sans",
       "font-size": 5
      }
     }
    }
   }
  }
 },
 "nbformat": 4,
 "nbformat_minor": 1
}
